{
 "cells": [
  {
   "cell_type": "code",
   "execution_count": 1,
   "metadata": {},
   "outputs": [],
   "source": [
    "import sys\n",
    "import os\n",
    "import dlib\n",
    "import glob\n",
    "import yaml\n",
    "import pandas as pd"
   ]
  },
  {
   "cell_type": "code",
   "execution_count": 2,
   "metadata": {},
   "outputs": [],
   "source": [
    "import logging\n",
    "logging.basicConfig(level=logging.INFO, format='%(asctime)s - %(name)s - %(levelname)s - %(message)s')\n",
    "logger = logging.getLogger(__name__)"
   ]
  },
  {
   "cell_type": "code",
   "execution_count": 3,
   "metadata": {},
   "outputs": [],
   "source": [
    "with open('../config.yaml', 'r') as file:\n",
    "    config = yaml.safe_load(file)"
   ]
  },
  {
   "cell_type": "code",
   "execution_count": 4,
   "metadata": {},
   "outputs": [],
   "source": [
    "detector = dlib.get_frontal_face_detector()\n",
    "sp = dlib.shape_predictor(\"../\" + config['shape_predictor'])\n",
    "facerec = dlib.face_recognition_model_v1(\"../\" + config['face_recognition_model_v1'])"
   ]
  },
  {
   "cell_type": "code",
   "execution_count": 5,
   "metadata": {},
   "outputs": [],
   "source": [
    "descriptors = []\n",
    "images = []\n",
    "\n",
    "face_clustering_result = []\n",
    "face_embedding_result = []"
   ]
  },
  {
   "cell_type": "code",
   "execution_count": 7,
   "metadata": {},
   "outputs": [
    {
     "name": "stderr",
     "output_type": "stream",
     "text": [
      "2023-11-15 02:11:08,651 - __main__ - INFO - Processing file: ../dataset/raw/Diana_0.jpg\n",
      "2023-11-15 02:11:08,826 - __main__ - INFO - Number of faces detected: 7\n",
      "2023-11-15 02:11:09,489 - __main__ - INFO - Processing file: ../dataset/raw/Diana_1.jpg\n",
      "2023-11-15 02:11:09,789 - __main__ - INFO - Number of faces detected: 2\n",
      "2023-11-15 02:11:09,978 - __main__ - INFO - Processing file: ../dataset/raw/Diana_2.jpg\n",
      "2023-11-15 02:11:10,492 - __main__ - INFO - Number of faces detected: 3\n",
      "2023-11-15 02:11:10,758 - __main__ - INFO - Processing file: ../dataset/raw/Diana_3.jpg\n",
      "2023-11-15 02:11:10,857 - __main__ - INFO - Number of faces detected: 1\n",
      "2023-11-15 02:11:10,946 - __main__ - INFO - Processing file: ../dataset/raw/Diana_4.jpg\n",
      "2023-11-15 02:11:15,421 - __main__ - INFO - Number of faces detected: 3\n",
      "2023-11-15 02:11:15,684 - __main__ - INFO - Processing file: ../dataset/raw/Diana_5.png\n",
      "2023-11-15 02:11:15,918 - __main__ - INFO - Number of faces detected: 6\n",
      "2023-11-15 02:11:16,460 - __main__ - INFO - Processing file: ../dataset/raw/Diana_6.jpeg\n",
      "2023-11-15 02:11:17,811 - __main__ - INFO - Number of faces detected: 3\n",
      "2023-11-15 02:11:18,077 - __main__ - INFO - Processing file: ../dataset/raw/Diana_7.jpg\n",
      "2023-11-15 02:11:18,410 - __main__ - INFO - Number of faces detected: 1\n",
      "2023-11-15 02:11:18,496 - __main__ - INFO - Processing file: ../dataset/raw/LHL_0.jpg\n",
      "2023-11-15 02:11:19,599 - __main__ - INFO - Number of faces detected: 1\n",
      "2023-11-15 02:11:19,694 - __main__ - INFO - Processing file: ../dataset/raw/LHL_1.png\n",
      "2023-11-15 02:11:19,913 - __main__ - INFO - Number of faces detected: 2\n",
      "2023-11-15 02:11:20,101 - __main__ - INFO - Processing file: ../dataset/raw/LHL_10.jpg\n",
      "2023-11-15 02:11:20,298 - __main__ - INFO - Number of faces detected: 4\n",
      "2023-11-15 02:11:20,651 - __main__ - INFO - Processing file: ../dataset/raw/LHL_2.jpg\n",
      "2023-11-15 02:11:20,765 - __main__ - INFO - Number of faces detected: 1\n",
      "2023-11-15 02:11:20,855 - __main__ - INFO - Processing file: ../dataset/raw/LHL_3.png\n",
      "2023-11-15 02:11:21,061 - __main__ - INFO - Number of faces detected: 1\n",
      "2023-11-15 02:11:21,149 - __main__ - INFO - Processing file: ../dataset/raw/LHL_4.jpg\n",
      "2023-11-15 02:11:21,257 - __main__ - INFO - Number of faces detected: 2\n",
      "2023-11-15 02:11:21,439 - __main__ - INFO - Processing file: ../dataset/raw/LHL_5.jpg\n",
      "2023-11-15 02:11:22,024 - __main__ - INFO - Number of faces detected: 3\n",
      "2023-11-15 02:11:22,288 - __main__ - INFO - Processing file: ../dataset/raw/LHL_6.jpg\n",
      "2023-11-15 02:11:22,530 - __main__ - INFO - Number of faces detected: 4\n",
      "2023-11-15 02:11:22,879 - __main__ - INFO - Processing file: ../dataset/raw/LHL_7.jpg\n",
      "2023-11-15 02:11:23,142 - __main__ - INFO - Number of faces detected: 2\n",
      "2023-11-15 02:11:23,322 - __main__ - INFO - Processing file: ../dataset/raw/LHL_8.jpg\n",
      "2023-11-15 02:11:24,037 - __main__ - INFO - Number of faces detected: 6\n",
      "2023-11-15 02:11:24,600 - __main__ - INFO - Processing file: ../dataset/raw/LHL_9.jpg\n",
      "2023-11-15 02:11:24,704 - __main__ - INFO - Number of faces detected: 6\n",
      "2023-11-15 02:11:25,227 - __main__ - INFO - Processing file: ../dataset/raw/Obama_0.png\n",
      "2023-11-15 02:11:25,368 - __main__ - INFO - Number of faces detected: 1\n",
      "2023-11-15 02:11:25,460 - __main__ - INFO - Processing file: ../dataset/raw/Obama_1.png\n",
      "2023-11-15 02:11:25,655 - __main__ - INFO - Number of faces detected: 17\n",
      "2023-11-15 02:11:27,148 - __main__ - INFO - Processing file: ../dataset/raw/Obama_2.png\n",
      "2023-11-15 02:11:27,298 - __main__ - INFO - Number of faces detected: 6\n",
      "2023-11-15 02:11:27,834 - __main__ - INFO - Processing file: ../dataset/raw/Obama_3.png\n",
      "2023-11-15 02:11:28,054 - __main__ - INFO - Number of faces detected: 2\n",
      "2023-11-15 02:11:28,232 - __main__ - INFO - Processing file: ../dataset/raw/Obama_4.png\n",
      "2023-11-15 02:11:28,510 - __main__ - INFO - Number of faces detected: 4\n",
      "2023-11-15 02:11:28,861 - __main__ - INFO - Processing file: ../dataset/raw/Putin_0.jpg\n",
      "2023-11-15 02:11:29,642 - __main__ - INFO - Number of faces detected: 4\n",
      "2023-11-15 02:11:30,006 - __main__ - INFO - Processing file: ../dataset/raw/Putin_1.jpg\n",
      "2023-11-15 02:11:30,465 - __main__ - INFO - Number of faces detected: 1\n",
      "2023-11-15 02:11:30,558 - __main__ - INFO - Processing file: ../dataset/raw/Putin_2.jpg\n",
      "2023-11-15 02:11:30,867 - __main__ - INFO - Number of faces detected: 1\n",
      "2023-11-15 02:11:30,956 - __main__ - INFO - Processing file: ../dataset/raw/Putin_3.jpg\n",
      "2023-11-15 02:11:31,213 - __main__ - INFO - Number of faces detected: 1\n",
      "2023-11-15 02:11:31,302 - __main__ - INFO - Processing file: ../dataset/raw/Putin_4.jpg\n",
      "2023-11-15 02:11:31,527 - __main__ - INFO - Number of faces detected: 1\n",
      "2023-11-15 02:11:31,616 - __main__ - INFO - Processing file: ../dataset/raw/Putin_5.jpg\n",
      "2023-11-15 02:11:31,851 - __main__ - INFO - Number of faces detected: 2\n",
      "2023-11-15 02:11:32,028 - __main__ - INFO - Processing file: ../dataset/raw/Putin_6.jpg\n",
      "2023-11-15 02:11:32,599 - __main__ - INFO - Number of faces detected: 1\n",
      "2023-11-15 02:11:32,689 - __main__ - INFO - Processing file: ../dataset/raw/Putin_7.jpg\n",
      "2023-11-15 02:11:33,235 - __main__ - INFO - Number of faces detected: 1\n",
      "2023-11-15 02:11:33,323 - __main__ - INFO - Processing file: ../dataset/raw/Putin_8.jpg\n",
      "2023-11-15 02:11:33,880 - __main__ - INFO - Number of faces detected: 8\n"
     ]
    }
   ],
   "source": [
    "# for f in glob.glob(os.path.join(\"lfw/**/*.jpg\")):\n",
    "# for f in glob.glob(os.path.join(\"raw/*.*\")):\n",
    "# for f in glob.glob(os.path.join(\"dataset/COCO_Group2a/*.jpg\")):\n",
    "face_id = 0\n",
    "for f in glob.glob(\"../\" + config['image_input_folder']):\n",
    "    logger.info(\"Processing file: {}\".format(f))\n",
    "    img = dlib.load_rgb_image(f)\n",
    "\n",
    "    # Ask the detector to find the bounding boxes of each face. The 1 in the\n",
    "    # second argument indicates that we should upsample the image 1 time. This\n",
    "    # will make everything bigger and allow us to detect more faces.\n",
    "    dets = detector(img, 1)\n",
    "    logger.info(\"Number of faces detected: {}\".format(len(dets)))\n",
    "\n",
    "    # Now process each face we found.\n",
    "    fcr = {}\n",
    "    fcr[\"img_file\"] = f\n",
    "    fcr[\"no_of_faces\"] = len(dets)\n",
    "    for k, d in enumerate(dets):\n",
    "        fcr_ed = {}\n",
    "        fcr_ed['face'] = ''.join(['face_id_', str(face_id)])\n",
    "        \n",
    "        # Get the landmarks/parts for the face in box d.\n",
    "        shape = sp(img, d)\n",
    "\n",
    "        # Compute the 128D vector that describes the face in img identified by\n",
    "        # shape.  \n",
    "        face_descriptor = facerec.compute_face_descriptor(img, shape)\n",
    "        fcr_ed['embedding'] = face_descriptor\n",
    "        fcr_ed['cluster'] = ''\n",
    "\n",
    "        descriptors.append(face_descriptor)\n",
    "        images.append((img, shape))\n",
    "\n",
    "        # d: (d.left(), d.top(), d.right(), d.bottom())\n",
    "        # fcr[\"face_rec\"] = d\n",
    "        fcr['face_cluster_in_image'] = []\n",
    "\n",
    "        face_embedding_result.append(fcr_ed)\n",
    "\n",
    "        face_id = face_id + 1\n",
    "\n",
    "    face_clustering_result.append(fcr)"
   ]
  },
  {
   "cell_type": "code",
   "execution_count": 8,
   "metadata": {},
   "outputs": [
    {
     "name": "stderr",
     "output_type": "stream",
     "text": [
      "2023-11-15 02:12:47,607 - __main__ - INFO - Number of clusters: 53\n"
     ]
    }
   ],
   "source": [
    "#Now let's cluster the faces.  \n",
    "labels = dlib.chinese_whispers_clustering(descriptors, config['cw_clustering_threshold'])\n",
    "num_classes = len(set(labels))\n",
    "\n",
    "face_sum = 0\n",
    "pic_no = 0\n",
    "\n",
    "logger.info(\"Number of clusters: {}\".format(num_classes))\n",
    "\n",
    "for i in range(len(labels)):\n",
    "    face_embedding_result[i]['cluster'] = labels[i]\n",
    "\n",
    "    if i + 1 <= face_sum + face_clustering_result[pic_no]['no_of_faces']:\n",
    "       face_clustering_result[pic_no]['face_cluster_in_image'].append(labels[i])\n",
    "    else:\n",
    "        pic_no = pic_no + 1\n",
    "        face_sum = face_sum + face_clustering_result[pic_no - 1]['no_of_faces']\n",
    "        face_clustering_result[pic_no]['face_cluster_in_image'].append(labels[i])\n",
    "\n",
    "    # print(\"pic_no {}\".format(pic_no))\n",
    "    # print(\"face_sum {}\".format(face_sum))"
   ]
  },
  {
   "cell_type": "code",
   "execution_count": 56,
   "metadata": {},
   "outputs": [],
   "source": [
    "clusters = [[] for _ in range(num_classes)]\n",
    "for i, pair in enumerate(images):\n",
    "    clusters[labels[i]].append(pair)\n",
    "\n",
    "for i, cluster in enumerate(clusters):\n",
    "    if len(cluster) > config['cluster_component_number_threshold']:\n",
    "        cluster_folder_path = os.path.join(\"output\", str(i))\n",
    "        if not os.path.isdir(cluster_folder_path):\n",
    "            os.makedirs(cluster_folder_path)\n",
    "        for j, pair in enumerate(cluster):\n",
    "            img, shape = pair\n",
    "            dlib.save_face_chip(img, shape, os.path.join(cluster_folder_path, 'face_{}'.format(j)), size=150, padding=0.25)"
   ]
  },
  {
   "cell_type": "code",
   "execution_count": 9,
   "metadata": {},
   "outputs": [],
   "source": [
    "\n",
    "face_clustering_result_df = pd.DataFrame(face_clustering_result)\n",
    "face_embedding_result_df = pd.DataFrame(face_embedding_result)"
   ]
  },
  {
   "cell_type": "code",
   "execution_count": 63,
   "metadata": {},
   "outputs": [
    {
     "data": {
      "text/html": [
       "<div>\n",
       "<style scoped>\n",
       "    .dataframe tbody tr th:only-of-type {\n",
       "        vertical-align: middle;\n",
       "    }\n",
       "\n",
       "    .dataframe tbody tr th {\n",
       "        vertical-align: top;\n",
       "    }\n",
       "\n",
       "    .dataframe thead th {\n",
       "        text-align: right;\n",
       "    }\n",
       "</style>\n",
       "<table border=\"1\" class=\"dataframe\">\n",
       "  <thead>\n",
       "    <tr style=\"text-align: right;\">\n",
       "      <th></th>\n",
       "      <th>face</th>\n",
       "      <th>embedding</th>\n",
       "      <th>cluster</th>\n",
       "    </tr>\n",
       "  </thead>\n",
       "  <tbody>\n",
       "    <tr>\n",
       "      <th>0</th>\n",
       "      <td>face_id_0</td>\n",
       "      <td>[-0.17780616879463196, 0.11140817403793335, 0....</td>\n",
       "      <td>0</td>\n",
       "    </tr>\n",
       "    <tr>\n",
       "      <th>1</th>\n",
       "      <td>face_id_1</td>\n",
       "      <td>[-0.14510276913642883, 0.11045663803815842, 0....</td>\n",
       "      <td>1</td>\n",
       "    </tr>\n",
       "    <tr>\n",
       "      <th>2</th>\n",
       "      <td>face_id_2</td>\n",
       "      <td>[-0.18592892587184906, 0.09384222328662872, 0....</td>\n",
       "      <td>1</td>\n",
       "    </tr>\n",
       "    <tr>\n",
       "      <th>3</th>\n",
       "      <td>face_id_3</td>\n",
       "      <td>[-0.21630069613456726, 0.07564140111207962, 0....</td>\n",
       "      <td>1</td>\n",
       "    </tr>\n",
       "    <tr>\n",
       "      <th>4</th>\n",
       "      <td>face_id_4</td>\n",
       "      <td>[-0.17144173383712769, 0.05064402520656586, 0....</td>\n",
       "      <td>2</td>\n",
       "    </tr>\n",
       "  </tbody>\n",
       "</table>\n",
       "</div>"
      ],
      "text/plain": [
       "        face                                          embedding  cluster\n",
       "0  face_id_0  [-0.17780616879463196, 0.11140817403793335, 0....        0\n",
       "1  face_id_1  [-0.14510276913642883, 0.11045663803815842, 0....        1\n",
       "2  face_id_2  [-0.18592892587184906, 0.09384222328662872, 0....        1\n",
       "3  face_id_3  [-0.21630069613456726, 0.07564140111207962, 0....        1\n",
       "4  face_id_4  [-0.17144173383712769, 0.05064402520656586, 0....        2"
      ]
     },
     "execution_count": 63,
     "metadata": {},
     "output_type": "execute_result"
    }
   ],
   "source": [
    "face_embedding_result_df.head()"
   ]
  },
  {
   "cell_type": "code",
   "execution_count": 69,
   "metadata": {},
   "outputs": [],
   "source": [
    "face_typical_embedding_df = face_embedding_result_df.groupby('cluster').head(1).reset_index(drop=True)"
   ]
  },
  {
   "cell_type": "code",
   "execution_count": 70,
   "metadata": {},
   "outputs": [
    {
     "data": {
      "text/html": [
       "<div>\n",
       "<style scoped>\n",
       "    .dataframe tbody tr th:only-of-type {\n",
       "        vertical-align: middle;\n",
       "    }\n",
       "\n",
       "    .dataframe tbody tr th {\n",
       "        vertical-align: top;\n",
       "    }\n",
       "\n",
       "    .dataframe thead th {\n",
       "        text-align: right;\n",
       "    }\n",
       "</style>\n",
       "<table border=\"1\" class=\"dataframe\">\n",
       "  <thead>\n",
       "    <tr style=\"text-align: right;\">\n",
       "      <th></th>\n",
       "      <th>face</th>\n",
       "      <th>embedding</th>\n",
       "      <th>cluster</th>\n",
       "    </tr>\n",
       "  </thead>\n",
       "  <tbody>\n",
       "    <tr>\n",
       "      <th>0</th>\n",
       "      <td>face_id_0</td>\n",
       "      <td>[-0.17780616879463196, 0.11140817403793335, 0....</td>\n",
       "      <td>0</td>\n",
       "    </tr>\n",
       "    <tr>\n",
       "      <th>1</th>\n",
       "      <td>face_id_1</td>\n",
       "      <td>[-0.14510276913642883, 0.11045663803815842, 0....</td>\n",
       "      <td>1</td>\n",
       "    </tr>\n",
       "    <tr>\n",
       "      <th>2</th>\n",
       "      <td>face_id_4</td>\n",
       "      <td>[-0.17144173383712769, 0.05064402520656586, 0....</td>\n",
       "      <td>2</td>\n",
       "    </tr>\n",
       "    <tr>\n",
       "      <th>3</th>\n",
       "      <td>face_id_7</td>\n",
       "      <td>[-0.04093189537525177, 0.1407700479030609, 0.0...</td>\n",
       "      <td>3</td>\n",
       "    </tr>\n",
       "    <tr>\n",
       "      <th>4</th>\n",
       "      <td>face_id_10</td>\n",
       "      <td>[-0.025122130289673805, 0.11117591708898544, 0...</td>\n",
       "      <td>4</td>\n",
       "    </tr>\n",
       "  </tbody>\n",
       "</table>\n",
       "</div>"
      ],
      "text/plain": [
       "         face                                          embedding  cluster\n",
       "0   face_id_0  [-0.17780616879463196, 0.11140817403793335, 0....        0\n",
       "1   face_id_1  [-0.14510276913642883, 0.11045663803815842, 0....        1\n",
       "2   face_id_4  [-0.17144173383712769, 0.05064402520656586, 0....        2\n",
       "3   face_id_7  [-0.04093189537525177, 0.1407700479030609, 0.0...        3\n",
       "4  face_id_10  [-0.025122130289673805, 0.11117591708898544, 0...        4"
      ]
     },
     "execution_count": 70,
     "metadata": {},
     "output_type": "execute_result"
    }
   ],
   "source": [
    "face_typical_embedding_df.head()"
   ]
  },
  {
   "cell_type": "code",
   "execution_count": 57,
   "metadata": {},
   "outputs": [],
   "source": [
    "img = dlib.load_rgb_image(\"../image_input.png\")"
   ]
  },
  {
   "cell_type": "code",
   "execution_count": 58,
   "metadata": {},
   "outputs": [],
   "source": [
    "import numpy as np\n",
    "\n",
    "detector = dlib.get_frontal_face_detector()\n",
    "sp = dlib.shape_predictor(\"../\" + config['shape_predictor'])\n",
    "facerec = dlib.face_recognition_model_v1(\"../\" + config['face_recognition_model_v1'])\n",
    "dets = detector(img, 1)\n",
    "for k, d in enumerate(dets):    \n",
    "    # Get the landmarks/parts for the face in box d.\n",
    "    shape = sp(img, d)\n",
    "\n",
    "    # Compute the 128D vector that describes the face in img identified by\n",
    "    # shape.  \n",
    "    face_descriptor = facerec.compute_face_descriptor(img, shape)"
   ]
  },
  {
   "cell_type": "code",
   "execution_count": 59,
   "metadata": {},
   "outputs": [],
   "source": [
    "from math import sqrt\n",
    "\n",
    "def euclidean_dist(vector_x):\n",
    "    if len(vector_x) != len(face_descriptor):\n",
    "        raise Exception('Vectors must be same dimensions')\n",
    "\n",
    "    x = np.array(vector_x)\n",
    "    y = np.array(face_descriptor)\n",
    "    return sum((x[dim] - y[dim]) ** 2 for dim in range(len(x)))"
   ]
  },
  {
   "cell_type": "code",
   "execution_count": 71,
   "metadata": {},
   "outputs": [],
   "source": [
    "face_typical_embedding_df['distance'] = face_typical_embedding_df['embedding'].map(euclidean_dist)"
   ]
  },
  {
   "cell_type": "code",
   "execution_count": 72,
   "metadata": {},
   "outputs": [
    {
     "data": {
      "text/html": [
       "<div>\n",
       "<style scoped>\n",
       "    .dataframe tbody tr th:only-of-type {\n",
       "        vertical-align: middle;\n",
       "    }\n",
       "\n",
       "    .dataframe tbody tr th {\n",
       "        vertical-align: top;\n",
       "    }\n",
       "\n",
       "    .dataframe thead th {\n",
       "        text-align: right;\n",
       "    }\n",
       "</style>\n",
       "<table border=\"1\" class=\"dataframe\">\n",
       "  <thead>\n",
       "    <tr style=\"text-align: right;\">\n",
       "      <th></th>\n",
       "      <th>face</th>\n",
       "      <th>embedding</th>\n",
       "      <th>cluster</th>\n",
       "      <th>distance</th>\n",
       "    </tr>\n",
       "  </thead>\n",
       "  <tbody>\n",
       "    <tr>\n",
       "      <th>0</th>\n",
       "      <td>face_id_0</td>\n",
       "      <td>[-0.17780616879463196, 0.11140817403793335, 0....</td>\n",
       "      <td>0</td>\n",
       "      <td>0.920756</td>\n",
       "    </tr>\n",
       "    <tr>\n",
       "      <th>1</th>\n",
       "      <td>face_id_1</td>\n",
       "      <td>[-0.14510276913642883, 0.11045663803815842, 0....</td>\n",
       "      <td>1</td>\n",
       "      <td>0.710481</td>\n",
       "    </tr>\n",
       "    <tr>\n",
       "      <th>2</th>\n",
       "      <td>face_id_4</td>\n",
       "      <td>[-0.17144173383712769, 0.05064402520656586, 0....</td>\n",
       "      <td>2</td>\n",
       "      <td>0.239845</td>\n",
       "    </tr>\n",
       "    <tr>\n",
       "      <th>3</th>\n",
       "      <td>face_id_7</td>\n",
       "      <td>[-0.04093189537525177, 0.1407700479030609, 0.0...</td>\n",
       "      <td>3</td>\n",
       "      <td>0.642192</td>\n",
       "    </tr>\n",
       "    <tr>\n",
       "      <th>4</th>\n",
       "      <td>face_id_10</td>\n",
       "      <td>[-0.025122130289673805, 0.11117591708898544, 0...</td>\n",
       "      <td>4</td>\n",
       "      <td>0.569327</td>\n",
       "    </tr>\n",
       "  </tbody>\n",
       "</table>\n",
       "</div>"
      ],
      "text/plain": [
       "         face                                          embedding  cluster  \\\n",
       "0   face_id_0  [-0.17780616879463196, 0.11140817403793335, 0....        0   \n",
       "1   face_id_1  [-0.14510276913642883, 0.11045663803815842, 0....        1   \n",
       "2   face_id_4  [-0.17144173383712769, 0.05064402520656586, 0....        2   \n",
       "3   face_id_7  [-0.04093189537525177, 0.1407700479030609, 0.0...        3   \n",
       "4  face_id_10  [-0.025122130289673805, 0.11117591708898544, 0...        4   \n",
       "\n",
       "   distance  \n",
       "0  0.920756  \n",
       "1  0.710481  \n",
       "2  0.239845  \n",
       "3  0.642192  \n",
       "4  0.569327  "
      ]
     },
     "execution_count": 72,
     "metadata": {},
     "output_type": "execute_result"
    }
   ],
   "source": [
    "face_typical_embedding_df.head()"
   ]
  },
  {
   "cell_type": "code",
   "execution_count": 79,
   "metadata": {},
   "outputs": [],
   "source": [
    "output_cluster = face_typical_embedding_df.iloc[face_typical_embedding_df['distance'].idxmin()]['cluster']"
   ]
  },
  {
   "cell_type": "code",
   "execution_count": 90,
   "metadata": {},
   "outputs": [
    {
     "data": {
      "text/html": [
       "<div>\n",
       "<style scoped>\n",
       "    .dataframe tbody tr th:only-of-type {\n",
       "        vertical-align: middle;\n",
       "    }\n",
       "\n",
       "    .dataframe tbody tr th {\n",
       "        vertical-align: top;\n",
       "    }\n",
       "\n",
       "    .dataframe thead th {\n",
       "        text-align: right;\n",
       "    }\n",
       "</style>\n",
       "<table border=\"1\" class=\"dataframe\">\n",
       "  <thead>\n",
       "    <tr style=\"text-align: right;\">\n",
       "      <th></th>\n",
       "      <th>img_file</th>\n",
       "      <th>no_of_faces</th>\n",
       "      <th>face_cluster_in_image</th>\n",
       "    </tr>\n",
       "  </thead>\n",
       "  <tbody>\n",
       "    <tr>\n",
       "      <th>0</th>\n",
       "      <td>../dataset/raw/Diana_0.jpg</td>\n",
       "      <td>7</td>\n",
       "      <td>[0, 1, 1, 1, 2, 1, 1]</td>\n",
       "    </tr>\n",
       "    <tr>\n",
       "      <th>1</th>\n",
       "      <td>../dataset/raw/Diana_1.jpg</td>\n",
       "      <td>2</td>\n",
       "      <td>[3, 2]</td>\n",
       "    </tr>\n",
       "    <tr>\n",
       "      <th>2</th>\n",
       "      <td>../dataset/raw/Diana_2.jpg</td>\n",
       "      <td>3</td>\n",
       "      <td>[2, 4, 5]</td>\n",
       "    </tr>\n",
       "    <tr>\n",
       "      <th>3</th>\n",
       "      <td>../dataset/raw/Diana_3.jpg</td>\n",
       "      <td>1</td>\n",
       "      <td>[2]</td>\n",
       "    </tr>\n",
       "    <tr>\n",
       "      <th>4</th>\n",
       "      <td>../dataset/raw/Diana_4.jpg</td>\n",
       "      <td>3</td>\n",
       "      <td>[3, 6, 2]</td>\n",
       "    </tr>\n",
       "  </tbody>\n",
       "</table>\n",
       "</div>"
      ],
      "text/plain": [
       "                     img_file  no_of_faces  face_cluster_in_image\n",
       "0  ../dataset/raw/Diana_0.jpg            7  [0, 1, 1, 1, 2, 1, 1]\n",
       "1  ../dataset/raw/Diana_1.jpg            2                 [3, 2]\n",
       "2  ../dataset/raw/Diana_2.jpg            3              [2, 4, 5]\n",
       "3  ../dataset/raw/Diana_3.jpg            1                    [2]\n",
       "4  ../dataset/raw/Diana_4.jpg            3              [3, 6, 2]"
      ]
     },
     "execution_count": 90,
     "metadata": {},
     "output_type": "execute_result"
    }
   ],
   "source": [
    "face_clustering_result_df.head()"
   ]
  },
  {
   "cell_type": "code",
   "execution_count": 100,
   "metadata": {},
   "outputs": [
    {
     "data": {
      "text/plain": [
       "['../dataset/raw/Diana_0.jpg',\n",
       " '../dataset/raw/Diana_1.jpg',\n",
       " '../dataset/raw/Diana_2.jpg',\n",
       " '../dataset/raw/Diana_3.jpg',\n",
       " '../dataset/raw/Diana_4.jpg',\n",
       " '../dataset/raw/Diana_5.png',\n",
       " '../dataset/raw/Diana_6.jpeg',\n",
       " '../dataset/raw/Diana_7.jpg',\n",
       " '../dataset/raw/Obama_1.png',\n",
       " '../dataset/raw/Obama_2.png',\n",
       " '../dataset/raw/Diana_0.jpg',\n",
       " '../dataset/raw/Diana_1.jpg',\n",
       " '../dataset/raw/Diana_2.jpg',\n",
       " '../dataset/raw/Diana_3.jpg',\n",
       " '../dataset/raw/Diana_4.jpg',\n",
       " '../dataset/raw/Diana_5.png',\n",
       " '../dataset/raw/Diana_6.jpeg',\n",
       " '../dataset/raw/Diana_7.jpg',\n",
       " '../dataset/raw/Obama_1.png',\n",
       " '../dataset/raw/Obama_2.png']"
      ]
     },
     "execution_count": 100,
     "metadata": {},
     "output_type": "execute_result"
    }
   ],
   "source": [
    "face_clustering_result_df[[2 in i for i in face_clustering_result_df['face_cluster_in_image']]].img_file.tolist()\n"
   ]
  }
 ],
 "metadata": {
  "kernelspec": {
   "display_name": "Python 3.8.18 64-bit",
   "language": "python",
   "name": "python3"
  },
  "language_info": {
   "codemirror_mode": {
    "name": "ipython",
    "version": 3
   },
   "file_extension": ".py",
   "mimetype": "text/x-python",
   "name": "python",
   "nbconvert_exporter": "python",
   "pygments_lexer": "ipython3",
   "version": "3.8.18"
  },
  "orig_nbformat": 4,
  "vscode": {
   "interpreter": {
    "hash": "949777d72b0d2535278d3dc13498b2535136f6dfe0678499012e853ee9abcab1"
   }
  }
 },
 "nbformat": 4,
 "nbformat_minor": 2
}
