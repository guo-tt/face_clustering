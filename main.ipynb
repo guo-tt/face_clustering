{
 "cells": [
  {
   "cell_type": "code",
   "execution_count": 1,
   "metadata": {},
   "outputs": [],
   "source": [
    "import yaml\n",
    "import logging\n",
    "\n",
    "from face_clustering import face_clustering"
   ]
  },
  {
   "cell_type": "code",
   "execution_count": 2,
   "metadata": {},
   "outputs": [],
   "source": [
    "\n",
    "logging.basicConfig(level=logging.INFO, format='%(asctime)s - %(name)s - %(levelname)s - %(message)s')\n",
    "logger = logging.getLogger(__name__)\n",
    "\n",
    "with open('config.yaml', 'r') as file:\n",
    "    config = yaml.safe_load(file)"
   ]
  },
  {
   "cell_type": "code",
   "execution_count": 3,
   "metadata": {},
   "outputs": [
    {
     "name": "stderr",
     "output_type": "stream",
     "text": [
      "2023-11-15 07:46:30,333 - __main__ - INFO - Processing file: dataset/raw/Diana_0.jpg\n",
      "2023-11-15 07:46:30,493 - __main__ - INFO - Number of faces detected: 7\n",
      "2023-11-15 07:46:31,178 - __main__ - INFO - Processing file: dataset/raw/Diana_1.jpg\n",
      "2023-11-15 07:46:31,455 - __main__ - INFO - Number of faces detected: 2\n",
      "2023-11-15 07:46:31,634 - __main__ - INFO - Processing file: dataset/raw/Diana_2.jpg\n",
      "2023-11-15 07:46:32,140 - __main__ - INFO - Number of faces detected: 3\n",
      "2023-11-15 07:46:32,406 - __main__ - INFO - Processing file: dataset/raw/Diana_3.jpg\n",
      "2023-11-15 07:46:32,505 - __main__ - INFO - Number of faces detected: 1\n",
      "2023-11-15 07:46:32,596 - __main__ - INFO - Processing file: dataset/raw/Diana_4.jpg\n",
      "2023-11-15 07:46:36,989 - __main__ - INFO - Number of faces detected: 3\n",
      "2023-11-15 07:46:37,259 - __main__ - INFO - Processing file: dataset/raw/Diana_5.png\n",
      "2023-11-15 07:46:37,490 - __main__ - INFO - Number of faces detected: 6\n",
      "2023-11-15 07:46:38,012 - __main__ - INFO - Processing file: dataset/raw/Diana_6.jpeg\n",
      "2023-11-15 07:46:39,328 - __main__ - INFO - Number of faces detected: 3\n",
      "2023-11-15 07:46:39,598 - __main__ - INFO - Processing file: dataset/raw/Diana_7.jpg\n",
      "2023-11-15 07:46:39,924 - __main__ - INFO - Number of faces detected: 1\n",
      "2023-11-15 07:46:40,013 - __main__ - INFO - Processing file: dataset/raw/LHL_0.jpg\n",
      "2023-11-15 07:46:41,082 - __main__ - INFO - Number of faces detected: 1\n",
      "2023-11-15 07:46:41,176 - __main__ - INFO - Processing file: dataset/raw/LHL_1.png\n",
      "2023-11-15 07:46:41,395 - __main__ - INFO - Number of faces detected: 2\n",
      "2023-11-15 07:46:41,577 - __main__ - INFO - Processing file: dataset/raw/LHL_10.jpg\n",
      "2023-11-15 07:46:41,770 - __main__ - INFO - Number of faces detected: 4\n",
      "2023-11-15 07:46:42,119 - __main__ - INFO - Processing file: dataset/raw/LHL_2.jpg\n",
      "2023-11-15 07:46:42,231 - __main__ - INFO - Number of faces detected: 1\n",
      "2023-11-15 07:46:42,326 - __main__ - INFO - Processing file: dataset/raw/LHL_3.png\n",
      "2023-11-15 07:46:42,527 - __main__ - INFO - Number of faces detected: 1\n",
      "2023-11-15 07:46:42,614 - __main__ - INFO - Processing file: dataset/raw/LHL_4.jpg\n",
      "2023-11-15 07:46:42,716 - __main__ - INFO - Number of faces detected: 2\n",
      "2023-11-15 07:46:42,891 - __main__ - INFO - Processing file: dataset/raw/LHL_5.jpg\n",
      "2023-11-15 07:46:43,469 - __main__ - INFO - Number of faces detected: 3\n",
      "2023-11-15 07:46:43,730 - __main__ - INFO - Processing file: dataset/raw/LHL_6.jpg\n",
      "2023-11-15 07:46:43,966 - __main__ - INFO - Number of faces detected: 4\n",
      "2023-11-15 07:46:44,315 - __main__ - INFO - Processing file: dataset/raw/LHL_7.jpg\n",
      "2023-11-15 07:46:44,579 - __main__ - INFO - Number of faces detected: 2\n",
      "2023-11-15 07:46:44,752 - __main__ - INFO - Processing file: dataset/raw/LHL_8.jpg\n",
      "2023-11-15 07:46:45,467 - __main__ - INFO - Number of faces detected: 6\n",
      "2023-11-15 07:46:45,989 - __main__ - INFO - Processing file: dataset/raw/LHL_9.jpg\n",
      "2023-11-15 07:46:46,096 - __main__ - INFO - Number of faces detected: 6\n",
      "2023-11-15 07:46:46,619 - __main__ - INFO - Processing file: dataset/raw/Obama_0.png\n",
      "2023-11-15 07:46:46,750 - __main__ - INFO - Number of faces detected: 1\n",
      "2023-11-15 07:46:46,839 - __main__ - INFO - Processing file: dataset/raw/Obama_1.png\n",
      "2023-11-15 07:46:47,033 - __main__ - INFO - Number of faces detected: 17\n",
      "2023-11-15 07:46:48,534 - __main__ - INFO - Processing file: dataset/raw/Obama_2.png\n",
      "2023-11-15 07:46:48,687 - __main__ - INFO - Number of faces detected: 6\n",
      "2023-11-15 07:46:49,222 - __main__ - INFO - Processing file: dataset/raw/Obama_3.png\n",
      "2023-11-15 07:46:49,442 - __main__ - INFO - Number of faces detected: 2\n",
      "2023-11-15 07:46:49,615 - __main__ - INFO - Processing file: dataset/raw/Obama_4.png\n",
      "2023-11-15 07:46:49,879 - __main__ - INFO - Number of faces detected: 4\n",
      "2023-11-15 07:46:50,230 - __main__ - INFO - Processing file: dataset/raw/Putin_0.jpg\n",
      "2023-11-15 07:46:50,984 - __main__ - INFO - Number of faces detected: 4\n",
      "2023-11-15 07:46:51,335 - __main__ - INFO - Processing file: dataset/raw/Putin_1.jpg\n",
      "2023-11-15 07:46:51,788 - __main__ - INFO - Number of faces detected: 1\n",
      "2023-11-15 07:46:51,875 - __main__ - INFO - Processing file: dataset/raw/Putin_2.jpg\n",
      "2023-11-15 07:46:52,192 - __main__ - INFO - Number of faces detected: 1\n",
      "2023-11-15 07:46:52,286 - __main__ - INFO - Processing file: dataset/raw/Putin_3.jpg\n",
      "2023-11-15 07:46:52,544 - __main__ - INFO - Number of faces detected: 1\n",
      "2023-11-15 07:46:52,634 - __main__ - INFO - Processing file: dataset/raw/Putin_4.jpg\n",
      "2023-11-15 07:46:52,854 - __main__ - INFO - Number of faces detected: 1\n",
      "2023-11-15 07:46:52,943 - __main__ - INFO - Processing file: dataset/raw/Putin_5.jpg\n",
      "2023-11-15 07:46:53,179 - __main__ - INFO - Number of faces detected: 2\n",
      "2023-11-15 07:46:53,361 - __main__ - INFO - Processing file: dataset/raw/Putin_6.jpg\n",
      "2023-11-15 07:46:53,915 - __main__ - INFO - Number of faces detected: 1\n",
      "2023-11-15 07:46:54,007 - __main__ - INFO - Processing file: dataset/raw/Putin_7.jpg\n",
      "2023-11-15 07:46:54,554 - __main__ - INFO - Number of faces detected: 1\n",
      "2023-11-15 07:46:54,645 - __main__ - INFO - Processing file: dataset/raw/Putin_8.jpg\n",
      "2023-11-15 07:46:55,188 - __main__ - INFO - Number of faces detected: 8\n"
     ]
    }
   ],
   "source": [
    "fc = face_clustering(logger, config)\n",
    "\n",
    "face_clustering_result_df, face_embedding_result_df, clusters = fc.clustering()\n"
   ]
  },
  {
   "cell_type": "code",
   "execution_count": null,
   "metadata": {},
   "outputs": [],
   "source": [
    "# _ = fc.save_cluster_result(clusters)"
   ]
  },
  {
   "cell_type": "code",
   "execution_count": 4,
   "metadata": {},
   "outputs": [
    {
     "data": {
      "text/plain": [
       "_dlib_pybind11.vector"
      ]
     },
     "execution_count": 4,
     "metadata": {},
     "output_type": "execute_result"
    }
   ],
   "source": [
    "type(face_embedding_result_df.iloc[0]['embedding'])"
   ]
  },
  {
   "cell_type": "code",
   "execution_count": null,
   "metadata": {},
   "outputs": [],
   "source": [
    "import numpy as np \n",
    "\n",
    "tmp = face_embedding_result_df['embedding'] = face_embedding_result_df['embedding'].map(lambda x: list(np.array(x)))"
   ]
  },
  {
   "cell_type": "code",
   "execution_count": null,
   "metadata": {},
   "outputs": [],
   "source": []
  },
  {
   "cell_type": "code",
   "execution_count": null,
   "metadata": {},
   "outputs": [],
   "source": []
  },
  {
   "cell_type": "code",
   "execution_count": null,
   "metadata": {},
   "outputs": [],
   "source": []
  },
  {
   "cell_type": "code",
   "execution_count": 5,
   "metadata": {},
   "outputs": [
    {
     "data": {
      "text/html": [
       "<div>\n",
       "<style scoped>\n",
       "    .dataframe tbody tr th:only-of-type {\n",
       "        vertical-align: middle;\n",
       "    }\n",
       "\n",
       "    .dataframe tbody tr th {\n",
       "        vertical-align: top;\n",
       "    }\n",
       "\n",
       "    .dataframe thead th {\n",
       "        text-align: right;\n",
       "    }\n",
       "</style>\n",
       "<table border=\"1\" class=\"dataframe\">\n",
       "  <thead>\n",
       "    <tr style=\"text-align: right;\">\n",
       "      <th></th>\n",
       "      <th>face</th>\n",
       "      <th>embedding</th>\n",
       "      <th>cluster</th>\n",
       "    </tr>\n",
       "  </thead>\n",
       "  <tbody>\n",
       "    <tr>\n",
       "      <th>0</th>\n",
       "      <td>face_id_0</td>\n",
       "      <td>[-0.17780616879463196, 0.11140817403793335, 0....</td>\n",
       "      <td>0</td>\n",
       "    </tr>\n",
       "    <tr>\n",
       "      <th>1</th>\n",
       "      <td>face_id_1</td>\n",
       "      <td>[-0.14510276913642883, 0.11045663803815842, 0....</td>\n",
       "      <td>1</td>\n",
       "    </tr>\n",
       "    <tr>\n",
       "      <th>2</th>\n",
       "      <td>face_id_2</td>\n",
       "      <td>[-0.18592892587184906, 0.09384222328662872, 0....</td>\n",
       "      <td>2</td>\n",
       "    </tr>\n",
       "    <tr>\n",
       "      <th>3</th>\n",
       "      <td>face_id_3</td>\n",
       "      <td>[-0.21630069613456726, 0.07564140111207962, 0....</td>\n",
       "      <td>2</td>\n",
       "    </tr>\n",
       "    <tr>\n",
       "      <th>4</th>\n",
       "      <td>face_id_4</td>\n",
       "      <td>[-0.17144173383712769, 0.05064402520656586, 0....</td>\n",
       "      <td>3</td>\n",
       "    </tr>\n",
       "  </tbody>\n",
       "</table>\n",
       "</div>"
      ],
      "text/plain": [
       "        face                                          embedding  cluster\n",
       "0  face_id_0  [-0.17780616879463196, 0.11140817403793335, 0....        0\n",
       "1  face_id_1  [-0.14510276913642883, 0.11045663803815842, 0....        1\n",
       "2  face_id_2  [-0.18592892587184906, 0.09384222328662872, 0....        2\n",
       "3  face_id_3  [-0.21630069613456726, 0.07564140111207962, 0....        2\n",
       "4  face_id_4  [-0.17144173383712769, 0.05064402520656586, 0....        3"
      ]
     },
     "execution_count": 5,
     "metadata": {},
     "output_type": "execute_result"
    }
   ],
   "source": [
    "face_embedding_result_df.head()"
   ]
  },
  {
   "cell_type": "code",
   "execution_count": null,
   "metadata": {},
   "outputs": [],
   "source": []
  },
  {
   "cell_type": "code",
   "execution_count": null,
   "metadata": {},
   "outputs": [],
   "source": [
    "fc.save_image_face_cluster_result(face_clustering_result_df, face_embedding_result_df)"
   ]
  },
  {
   "cell_type": "code",
   "execution_count": null,
   "metadata": {},
   "outputs": [],
   "source": [
    "output_list = fc.output_image_list(face_clustering_result_df, face_embedding_result_df, \"image_input.png\")"
   ]
  },
  {
   "cell_type": "code",
   "execution_count": null,
   "metadata": {},
   "outputs": [],
   "source": [
    "output_list "
   ]
  }
 ],
 "metadata": {
  "kernelspec": {
   "display_name": "Python 3.8.18 64-bit",
   "language": "python",
   "name": "python3"
  },
  "language_info": {
   "codemirror_mode": {
    "name": "ipython",
    "version": 3
   },
   "file_extension": ".py",
   "mimetype": "text/x-python",
   "name": "python",
   "nbconvert_exporter": "python",
   "pygments_lexer": "ipython3",
   "version": "3.8.18"
  },
  "orig_nbformat": 4,
  "vscode": {
   "interpreter": {
    "hash": "949777d72b0d2535278d3dc13498b2535136f6dfe0678499012e853ee9abcab1"
   }
  }
 },
 "nbformat": 4,
 "nbformat_minor": 2
}
